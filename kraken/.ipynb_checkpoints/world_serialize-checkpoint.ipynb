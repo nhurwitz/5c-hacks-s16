{
 "cells": [
  {
   "cell_type": "code",
   "execution_count": 25,
   "metadata": {
    "collapsed": false
   },
   "outputs": [],
   "source": [
    "def world_json_to_array(json):\n",
    "    state = [[[0 for k in range(0,d['sideLength'])] for j in range(0,d['sideLength'])] for i in range(0,d['sideLength'])]\n",
    "    for key in d['snakes']:\n",
    "        for pending_point in d['pendingPoints']:\n",
    "                state[pending_point['x']][pending_point['y']][pending_point['z']] = 3\n",
    "        id =  d['snakes'][key]['id']\n",
    "        head = d['snakes'][key]['head']\n",
    "        if id == my_snake_id:\n",
    "            state[head['x']][head['y']][head['z']] = 1\n",
    "            for tail_point in d['snakes'][key]['tail']:\n",
    "                state[tail_point['x']][tail_point['y']][tail_point['z']] = 1\n",
    "        else:\n",
    "            state[head['x']][head['y']][head['z']] = 2\n",
    "            for tail_point in d['snakes'][key]['tail']:\n",
    "                 state[tail_point['x']][tail_point['y']][tail_point['z']] = 2\n",
    "    return [state[i][j][k] for i in range(0,d['sideLength']) for j in range(0,d['sideLength']) for k in range(0,d['sideLength']) ]"
   ]
  }
 ],
 "metadata": {
  "kernelspec": {
   "display_name": "Python 2",
   "language": "python",
   "name": "python2"
  },
  "language_info": {
   "codemirror_mode": {
    "name": "ipython",
    "version": 2
   },
   "file_extension": ".py",
   "mimetype": "text/x-python",
   "name": "python",
   "nbconvert_exporter": "python",
   "pygments_lexer": "ipython2",
   "version": "2.7.10"
  }
 },
 "nbformat": 4,
 "nbformat_minor": 0
}
