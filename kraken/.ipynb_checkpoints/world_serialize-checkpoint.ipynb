{
 "cells": [
  {
   "cell_type": "code",
   "execution_count": 56,
   "metadata": {
    "collapsed": false
   },
   "outputs": [],
   "source": [
    "my_snake_id = 'abc123thisIsAnID'\n",
    "\n",
    "def world_json_to_array(d):\n",
    "    state = [[[0 for k in range(0,d['sideLength'])] for j in range(0,d['sideLength'])] for i in range(0,d['sideLength'])]\n",
    "    for key in d['snakes']:\n",
    "        for pending_point in d['pendingPoints']:\n",
    "                state[pending_point['x']][pending_point['y']][pending_point['z']] = 3\n",
    "        id =  d['snakes'][key]['id']\n",
    "        head = d['snakes'][key]['head']\n",
    "        if id == my_snake_id:\n",
    "            state[head['x']][head['y']][head['z']] = 1\n",
    "            for tail_point in d['snakes'][key]['tail']:\n",
    "                state[tail_point['x']][tail_point['y']][tail_point['z']] = 1\n",
    "        else:\n",
    "            state[head['x']][head['y']][head['z']] = 2\n",
    "            for tail_point in d['snakes'][key]['tail']:\n",
    "                 state[tail_point['x']][tail_point['y']][tail_point['z']] = 2\n",
    "    return [state[i][j][k] for i in range(0,d['sideLength']) for j in range(0,d['sideLength']) for k in range(0,d['sideLength']) ]\n",
    "\n",
    "def manhattan_distance(p1, p2):\n",
    "    p1x = p1['x']\n",
    "    p1y = p1['y']\n",
    "    p1z = p1['z']\n",
    "    p2x = p2['x']\n",
    "    p2y = p2['y']\n",
    "    p2z = p2['z']\n",
    "    return abs(p1x - p2x) + abs(p1y-p2y) + abs(p1z-p2z)\n",
    "\n",
    "def objective_function(new_state, old_state, id):\n",
    "    reward = 0;\n",
    "    isAlive = False\n",
    "    for key in new_state['snakes']:\n",
    "        if new_state['snakes'][key]['id'] == my_snake_id:\n",
    "            isAlive = True\n",
    "    if not isAlive:\n",
    "        return 500\n",
    "    if len(new_state['snakes'][my_snake_id]['tail']) > len(old_state['snakes'][my_snake_id]['tail']):\n",
    "        reward += 10\n",
    "    head = new_state['snakes'][my_snake_id]['head']                                                         \n",
    "    minDistance = 100000\n",
    "    for pendingPoint in new_state['pendingPoints']:\n",
    "        minDistance = min(minDistance, manhattan_distance(head,pendingPoint))\n",
    "    return reward"
   ]
  },
  {
   "cell_type": "code",
   "execution_count": 57,
   "metadata": {
    "collapsed": false
   },
   "outputs": [],
   "source": [
    "d = {\n",
    "  \"sideLength\": 10,\n",
    "  \"pendingPoints\": [\n",
    "    {\n",
    "      \"x\": 7,\n",
    "      \"y\": 5,\n",
    "      \"z\": 3\n",
    "    },\n",
    "    {\n",
    "      \"x\": 2,\n",
    "      \"y\": 2,\n",
    "      \"z\": 2\n",
    "    }\n",
    "  ],\n",
    "  \"snakes\": {\n",
    "    \"abc123thisIsAnID\": {\n",
    "      \"id\": \"abc123thisIsAnID\",\n",
    "      \"color\": \"#666666\",\n",
    "      \"head\": {\n",
    "        \"x\": 8,\n",
    "        \"y\": 8,\n",
    "        \"z\": 7\n",
    "      },\n",
    "      \"tail\": [\n",
    "        {\n",
    "          \"x\": 8,\n",
    "          \"y\": 7,\n",
    "          \"z\": 7\n",
    "        },\n",
    "        {\n",
    "          \"x\": 8,\n",
    "          \"y\": 6,\n",
    "          \"z\": 7\n",
    "        }\n",
    "      ],\n",
    "      \"direction\": \"down\"\n",
    "    }\n",
    "  }\n",
    "}"
   ]
  },
  {
   "cell_type": "code",
   "execution_count": 58,
   "metadata": {
    "collapsed": false
   },
   "outputs": [
    {
     "name": "stdout",
     "output_type": "stream",
     "text": [
      "8\n"
     ]
    }
   ],
   "source": [
    "print objective_function(d,d,my_snake_id)"
   ]
  },
  {
   "cell_type": "code",
   "execution_count": null,
   "metadata": {
    "collapsed": false
   },
   "outputs": [],
   "source": []
  },
  {
   "cell_type": "code",
   "execution_count": null,
   "metadata": {
    "collapsed": true
   },
   "outputs": [],
   "source": []
  }
 ],
 "metadata": {
  "kernelspec": {
   "display_name": "Python 2",
   "language": "python",
   "name": "python2"
  },
  "language_info": {
   "codemirror_mode": {
    "name": "ipython",
    "version": 2
   },
   "file_extension": ".py",
   "mimetype": "text/x-python",
   "name": "python",
   "nbconvert_exporter": "python",
   "pygments_lexer": "ipython2",
   "version": "2.7.10"
  }
 },
 "nbformat": 4,
 "nbformat_minor": 0
}
